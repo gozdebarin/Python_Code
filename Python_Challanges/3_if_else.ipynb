{
  "cells": [
    {
      "cell_type": "markdown",
      "id": "b5f241c5-50ec-4424-b0b1-d4cf28859ad3",
      "metadata": {
        "id": "b5f241c5-50ec-4424-b0b1-d4cf28859ad3"
      },
      "source": [
        "# &nbsp;1. If/Else statements"
      ]
    },
    {
      "cell_type": "markdown",
      "id": "8a4347ae-fc99-4764-9db1-8d35670f2446",
      "metadata": {
        "id": "8a4347ae-fc99-4764-9db1-8d35670f2446"
      },
      "source": [
        "> **_WARNING, VERY BAD JOKE!_**    \n",
        "Once, a programmer's wife sent her husband to a grocery store to buy a loaf of bread.   \n",
        "On his way out, his wife said, “Buy a loaf of bread. If they have eggs, get a dozen.”  \n",
        "An hour later, the husband returned home with 12 loaves of bread. The wife got angry and asked, “Why did you get 12 loaves of bread?”.  \n",
        "He replied, “Because they had eggs.” "
      ]
    },
    {
      "cell_type": "markdown",
      "id": "2452239f-6f3e-4970-882f-416e34806a41",
      "metadata": {
        "id": "2452239f-6f3e-4970-882f-416e34806a41"
      },
      "source": [
        "Did you understand this bad joke? No? No worries, after you have learned about If and Else statements, you will understand it and realise that it's still not funny. :)"
      ]
    },
    {
      "cell_type": "markdown",
      "id": "000789f8-d924-43b6-9f00-ed5d447f1fcd",
      "metadata": {
        "id": "000789f8-d924-43b6-9f00-ed5d447f1fcd"
      },
      "source": [
        "### 1.1 Is equal to"
      ]
    },
    {
      "cell_type": "markdown",
      "id": "d2a5dce9-cc60-4361-ae4f-2018ea87f5c3",
      "metadata": {
        "id": "d2a5dce9-cc60-4361-ae4f-2018ea87f5c3"
      },
      "source": [
        "We will start with a simple question: **Is `x` equal to 2?**"
      ]
    },
    {
      "cell_type": "markdown",
      "id": "c85fdc2c-bc0e-4776-a7a6-394a65da92af",
      "metadata": {
        "id": "c85fdc2c-bc0e-4776-a7a6-394a65da92af"
      },
      "source": [
        "To ask if something is equal in Python, we use `==`."
      ]
    },
    {
      "cell_type": "code",
      "execution_count": null,
      "id": "c81acf51-6e25-46ec-94e5-3b891d57d10a",
      "metadata": {
        "id": "c81acf51-6e25-46ec-94e5-3b891d57d10a"
      },
      "outputs": [],
      "source": [
        "# Assigning the value.\n",
        "x = 2\n",
        "x"
      ]
    },
    {
      "cell_type": "code",
      "execution_count": null,
      "id": "8d3394d4-ca94-4643-823c-1530847d2e58",
      "metadata": {
        "id": "8d3394d4-ca94-4643-823c-1530847d2e58"
      },
      "outputs": [],
      "source": [
        "# Asking if it is equal to 2.\n",
        "x == 2"
      ]
    },
    {
      "cell_type": "code",
      "execution_count": null,
      "id": "f569035d-59cb-4d28-a8c0-dc80ddb08009",
      "metadata": {
        "id": "f569035d-59cb-4d28-a8c0-dc80ddb08009"
      },
      "outputs": [],
      "source": [
        "# Asking if it is equal to 3.\n",
        "x == 3"
      ]
    },
    {
      "cell_type": "markdown",
      "id": "c2c54ddb-cb43-4f09-b626-d1026108c995",
      "metadata": {
        "id": "c2c54ddb-cb43-4f09-b626-d1026108c995"
      },
      "source": [
        "### 1.2 If statement with a condition"
      ]
    },
    {
      "cell_type": "markdown",
      "id": "163bc8df-1bb9-4dbe-9138-abadcea4189f",
      "metadata": {
        "id": "163bc8df-1bb9-4dbe-9138-abadcea4189f"
      },
      "source": [
        "Let's put the question (i.e. the condition) inside an `if` statement."
      ]
    },
    {
      "cell_type": "code",
      "execution_count": null,
      "id": "f2c593da-f074-41ce-88c5-83bf51fb9691",
      "metadata": {
        "id": "f2c593da-f074-41ce-88c5-83bf51fb9691"
      },
      "outputs": [],
      "source": [
        "# Assign a value to a variable.\n",
        "x = 2\n",
        "# Ask if condition is true.\n",
        "if x == 2:\n",
        "    # This will only be executed if the condition is true.\n",
        "    print(\"x is indeed 2\")"
      ]
    },
    {
      "cell_type": "markdown",
      "id": "8979f98b-a923-48c2-8589-326ed8d247a5",
      "metadata": {
        "id": "8979f98b-a923-48c2-8589-326ed8d247a5"
      },
      "source": [
        "Let's see what happens if the condition is not True (i.e. if it is False)."
      ]
    },
    {
      "cell_type": "code",
      "execution_count": null,
      "id": "c610e72c-c6a4-4aa3-a886-9d4cd9ecba96",
      "metadata": {
        "id": "c610e72c-c6a4-4aa3-a886-9d4cd9ecba96"
      },
      "outputs": [],
      "source": [
        "x = 3\n",
        "if x == 2:\n",
        "    print(\"x is indeed 2\")"
      ]
    },
    {
      "cell_type": "markdown",
      "id": "e2d5f4de-8188-4d96-8f1c-08ba86d6cdcd",
      "metadata": {
        "id": "e2d5f4de-8188-4d96-8f1c-08ba86d6cdcd"
      },
      "source": [
        "Nothing happened because the condition was False. So the code inside the `if` statement is not True (False)."
      ]
    },
    {
      "cell_type": "markdown",
      "source": [
        "### 1.3 Indentation"
      ],
      "metadata": {
        "id": "4b1kHdvl6TDW"
      },
      "id": "4b1kHdvl6TDW"
    },
    {
      "cell_type": "markdown",
      "source": [
        "Indentation refers to the spaces at the beginning of a code line. Python uses indentation to indicate a block of code.  \n",
        "When we make an `if` statement, everything we want to be executed \"inside\" of it has to be indented from the statement."
      ],
      "metadata": {
        "id": "3vIPOAod6hzS"
      },
      "id": "3vIPOAod6hzS"
    },
    {
      "cell_type": "code",
      "source": [
        "if 5 > 2:\n",
        "  print(\"Five is greater than two!\") # the empty space in front of the print() function is an indent."
      ],
      "metadata": {
        "id": "E_xCoYVq611Z"
      },
      "execution_count": null,
      "outputs": [],
      "id": "E_xCoYVq611Z"
    },
    {
      "cell_type": "markdown",
      "id": "fc3625d6-b533-4123-ba94-d157ab67d186",
      "metadata": {
        "id": "fc3625d6-b533-4123-ba94-d157ab67d186"
      },
      "source": [
        "### 1.4 Else statement"
      ]
    },
    {
      "cell_type": "markdown",
      "id": "546d0947-504e-41b5-a1b4-a6121f2e5b75",
      "metadata": {
        "id": "546d0947-504e-41b5-a1b4-a6121f2e5b75"
      },
      "source": [
        "What if we also want something to happen when the condision is False?  \n",
        "In those cases, we use the `else` statement. Everything inside the `else` statement will happen if the condition in the preceding `if` statement is not True."
      ]
    },
    {
      "cell_type": "code",
      "execution_count": null,
      "id": "ff81bb8e-c80f-46e8-9613-b1ba7a101e8a",
      "metadata": {
        "id": "ff81bb8e-c80f-46e8-9613-b1ba7a101e8a"
      },
      "outputs": [],
      "source": [
        "x = 3\n",
        "\n",
        "if x == 2:\n",
        "    print(\"x is indeed 2\")\n",
        "else:\n",
        "    print(\"x is not 2\")"
      ]
    },
    {
      "cell_type": "markdown",
      "id": "e7806057-9b70-49f6-9fc7-adab83848b2f",
      "metadata": {
        "id": "e7806057-9b70-49f6-9fc7-adab83848b2f"
      },
      "source": [
        "### 1.5 Other logical conditions"
      ]
    },
    {
      "cell_type": "markdown",
      "id": "42218c13-2a80-4c4a-9331-ee2afb6d812d",
      "metadata": {
        "id": "42218c13-2a80-4c4a-9331-ee2afb6d812d"
      },
      "source": [
        "You can question many other conditions in an `if` statement as long as these conditions give a result of True or False such as `>` (greater than).  "
      ]
    },
    {
      "cell_type": "code",
      "execution_count": null,
      "id": "2988a068-b5a5-494e-860c-724e227787ec",
      "metadata": {
        "id": "2988a068-b5a5-494e-860c-724e227787ec"
      },
      "outputs": [],
      "source": [
        "x = 3\n",
        "y = 5\n",
        "\n",
        "if x > y:\n",
        "    print(\"x is higher than y\")\n",
        "else:\n",
        "    print(\"x is lower or equal to y\")"
      ]
    },
    {
      "cell_type": "code",
      "execution_count": null,
      "id": "f5a81bb6-4d8c-4aef-87ec-b13f81f16564",
      "metadata": {
        "id": "f5a81bb6-4d8c-4aef-87ec-b13f81f16564"
      },
      "outputs": [],
      "source": [
        "list_1 = [\"kitty\",\"puppy\"]\n",
        "\n",
        "if list_1.count(\"lamb\") > 0:\n",
        "    print(\"list_1 contains the element 'lamb'\")\n",
        "else:\n",
        "    list_1.append(\"lamb\")\n",
        "    print(\"list_1 didn't contain the element 'lamb', so we added it\")\n",
        "    print(list_1)"
      ]
    },
    {
      "cell_type": "markdown",
      "id": "08550459-5562-4b14-9afb-626e5786e7cc",
      "metadata": {
        "id": "08550459-5562-4b14-9afb-626e5786e7cc"
      },
      "source": [
        "Python supports the usual logical conditions from mathematics:\n",
        "\n",
        "- Equals: a == b\n",
        "- Not Equals: a != b\n",
        "- Less than: a < b\n",
        "- Less than or equal to: a <= b\n",
        "- Greater than: a > b\n",
        "- Greater than or equal to: a >= b"
      ]
    },
    {
      "cell_type": "markdown",
      "id": "1cfcb23f-1e99-4a8e-89f8-d78bbe68bb94",
      "metadata": {
        "id": "1cfcb23f-1e99-4a8e-89f8-d78bbe68bb94"
      },
      "source": [
        "### 1.6 Elif statement"
      ]
    },
    {
      "cell_type": "markdown",
      "id": "813d01cd-02b5-4b94-bc31-788ae82a367f",
      "metadata": {
        "id": "813d01cd-02b5-4b94-bc31-788ae82a367f"
      },
      "source": [
        "Sometimes, we want to try multiple conditions and perform different actions for each.  \n",
        "It is like saying \"if the previous conditions are not true, try this one\".\n",
        "\n",
        "For that, we use the `elif` statement."
      ]
    },
    {
      "cell_type": "code",
      "execution_count": null,
      "id": "40b5f1eb-c89f-49ce-a7df-f8f70dcf2a37",
      "metadata": {
        "id": "40b5f1eb-c89f-49ce-a7df-f8f70dcf2a37"
      },
      "outputs": [],
      "source": [
        "x = \"green\"\n",
        "\n",
        "if x == \"blue\":\n",
        "    print(\"x is blue\")\n",
        "elif x == \"red\":\n",
        "    print(\"x is red\")\n",
        "elif x == \"green\":\n",
        "    print(\"x is green\")\n",
        "else:\n",
        "    print(\"x is neither blue, red or green\")"
      ]
    },
    {
      "cell_type": "markdown",
      "id": "599724d9-f715-45f0-a2a7-e9937fe6b2c9",
      "metadata": {
        "id": "599724d9-f715-45f0-a2a7-e9937fe6b2c9"
      },
      "source": [
        "### 1.7 AND and OR"
      ]
    },
    {
      "cell_type": "markdown",
      "id": "b02a1440-57f9-4348-a663-d5b43c2e4b9a",
      "metadata": {
        "id": "b02a1440-57f9-4348-a663-d5b43c2e4b9a"
      },
      "source": [
        "One `if` statement can have multiple conditions chained with special keywords like `AND` or `OR`."
      ]
    },
    {
      "cell_type": "code",
      "execution_count": null,
      "id": "be6463a7-96ad-4889-b442-62b0fdb7404d",
      "metadata": {
        "id": "be6463a7-96ad-4889-b442-62b0fdb7404d"
      },
      "outputs": [],
      "source": [
        "x = 2\n",
        "y = 3\n",
        "\n",
        "if x == 2 and y==3:\n",
        "    print(\"Both statements are True.\")"
      ]
    },
    {
      "cell_type": "markdown",
      "id": "a2415b70-a6be-4b3a-9d97-be62e6119137",
      "metadata": {
        "id": "a2415b70-a6be-4b3a-9d97-be62e6119137"
      },
      "source": [
        "This table shows the expected outcomes of conditions chained with `AND`.\n",
        "\n",
        "| **AND**   | **True** | **False** |\n",
        "|-----------|----------|-----------|\n",
        "| **True**  | True     | False     |\n",
        "| **False** | False    | False     |"
      ]
    },
    {
      "cell_type": "code",
      "execution_count": null,
      "id": "354434c9-76fa-4367-b1b1-f8cd0ac6594d",
      "metadata": {
        "id": "354434c9-76fa-4367-b1b1-f8cd0ac6594d"
      },
      "outputs": [],
      "source": [
        "x = 2\n",
        "y = 3\n",
        "\n",
        "if x > 5 or y==3:\n",
        "    print(\"One or both of the statements are True.\")"
      ]
    },
    {
      "cell_type": "markdown",
      "id": "c5050b43-e8b8-4f4e-a946-c0ba0cbea5bf",
      "metadata": {
        "id": "c5050b43-e8b8-4f4e-a946-c0ba0cbea5bf"
      },
      "source": [
        "This table shows the expected outcomes of conditions chained with `OR`.\n",
        "\n",
        "| **OR**    | **True** | **False** |\n",
        "|-----------|----------|-----------|\n",
        "| **True**  | True     | True      |\n",
        "| **False** | True     | False     |"
      ]
    },
    {
      "cell_type": "markdown",
      "id": "7cba3a6c-b1fe-47b0-9a9b-c157b922ab3c",
      "metadata": {
        "id": "7cba3a6c-b1fe-47b0-9a9b-c157b922ab3c"
      },
      "source": [
        "### 1.8 input() function"
      ]
    },
    {
      "cell_type": "markdown",
      "id": "3d944d1b-7826-4426-9062-93327aa735e3",
      "metadata": {
        "id": "3d944d1b-7826-4426-9062-93327aa735e3"
      },
      "source": [
        "One extra thing that might come in handy is the input from a user.  \n",
        "Sometimes, we want to ask a user to input some information and use it later in our code.  \n",
        "For this, we use the `input()` function."
      ]
    },
    {
      "cell_type": "code",
      "execution_count": null,
      "id": "e71085bd-e646-4027-a220-9f9e15c30ebd",
      "metadata": {
        "id": "e71085bd-e646-4027-a220-9f9e15c30ebd"
      },
      "outputs": [],
      "source": [
        "print(\"Choose a number from 1-100 and hit ENTER.\")\n",
        "\n",
        "x = input()\n",
        "\n",
        "print(f\"You have chosen the number: {x}\")"
      ]
    },
    {
      "cell_type": "markdown",
      "id": "0963b1bb-e7e9-4ff3-9c42-6466ec5a9e64",
      "metadata": {
        "id": "0963b1bb-e7e9-4ff3-9c42-6466ec5a9e64"
      },
      "source": [
        "This might seem familiar if you've ever installed something using the command line."
      ]
    },
    {
      "cell_type": "code",
      "execution_count": null,
      "id": "547cf0bf-e0d4-4f13-a3d3-9c6d4fbec54c",
      "metadata": {
        "id": "547cf0bf-e0d4-4f13-a3d3-9c6d4fbec54c"
      },
      "outputs": [],
      "source": [
        "print(\"Do you want to proceed? [y/n]\")\n",
        "\n",
        "x = input()\n",
        "\n",
        "if x == \"y\":\n",
        "    print(\"proceeding with the execution\")\n",
        "elif x == \"n\":\n",
        "    print(\"not proceeding with the execution\")\n",
        "else:\n",
        "    print(\"you are only allowed to enter y or n\")"
      ]
    },
    {
      "cell_type": "markdown",
      "id": "2380dd02-2211-41cc-9272-7d43c6d6b6bb",
      "metadata": {
        "id": "2380dd02-2211-41cc-9272-7d43c6d6b6bb"
      },
      "source": [
        "## Exercises"
      ]
    },
    {
      "cell_type": "markdown",
      "id": "445bf9d1-208c-44f5-8ec0-83279e36fabe",
      "metadata": {
        "id": "445bf9d1-208c-44f5-8ec0-83279e36fabe"
      },
      "source": [
        "### Exercise 1"
      ]
    },
    {
      "cell_type": "markdown",
      "id": "40c9ce40-c21b-4804-9d46-bfba99900756",
      "metadata": {
        "id": "40c9ce40-c21b-4804-9d46-bfba99900756"
      },
      "source": [
        "Print \"condition is true\" if x is greater than or equal to y."
      ]
    },
    {
      "cell_type": "code",
      "execution_count": null,
      "id": "b4ef5e68-1194-48c3-928a-dcda69dd8030",
      "metadata": {
        "id": "b4ef5e68-1194-48c3-928a-dcda69dd8030"
      },
      "outputs": [],
      "source": [
        "x = 3\n",
        "y = 1"
      ]
    },
    {
      "cell_type": "code",
      "execution_count": null,
      "id": "cc665543-f75e-4596-9930-4c00151aec69",
      "metadata": {
        "id": "cc665543-f75e-4596-9930-4c00151aec69",
        "colab": {
          "base_uri": "https://localhost:8080/"
        },
        "outputId": "c30c938d-6b2b-4205-8514-3483c2db8fcc"
      },
      "outputs": [
        {
          "output_type": "stream",
          "name": "stdout",
          "text": [
            "condition is true\n"
          ]
        }
      ],
      "source": [
        "# Kristina\n",
        "if x>=y:\n",
        "  print(\"condition is true\")"
      ]
    },
    {
      "cell_type": "markdown",
      "id": "a96b67e1-4baa-4515-9830-f50baff5c70f",
      "metadata": {
        "jp-MarkdownHeadingCollapsed": true,
        "tags": [],
        "id": "a96b67e1-4baa-4515-9830-f50baff5c70f"
      },
      "source": [
        "##### Hint"
      ]
    },
    {
      "cell_type": "code",
      "execution_count": null,
      "id": "e917e023-41ba-4f31-bc79-a00845e50f3d",
      "metadata": {
        "id": "e917e023-41ba-4f31-bc79-a00845e50f3d"
      },
      "outputs": [],
      "source": [
        "# _____(x ___ y):\n",
        "#     print(\"True\")"
      ]
    },
    {
      "cell_type": "markdown",
      "id": "1a211e11-3ca3-45ed-8e68-930107cbad4a",
      "metadata": {
        "id": "1a211e11-3ca3-45ed-8e68-930107cbad4a"
      },
      "source": [
        "### Exercise 2"
      ]
    },
    {
      "cell_type": "markdown",
      "id": "3ed63e26-b57a-4139-b7ff-03d983eef857",
      "metadata": {
        "id": "3ed63e26-b57a-4139-b7ff-03d983eef857"
      },
      "source": [
        "Print \"x is not equal to y\" if x is not equal to y,  \n",
        "print \"x is equal to y\" if x is equal to y."
      ]
    },
    {
      "cell_type": "code",
      "execution_count": null,
      "id": "439ebbe7-1b7a-4a87-98dc-deb6fedaf404",
      "metadata": {
        "id": "439ebbe7-1b7a-4a87-98dc-deb6fedaf404"
      },
      "outputs": [],
      "source": [
        "x=5\n",
        "y=5"
      ]
    },
    {
      "cell_type": "code",
      "execution_count": null,
      "id": "ec3dd390-0dff-4e77-b1b3-752b90284360",
      "metadata": {
        "id": "ec3dd390-0dff-4e77-b1b3-752b90284360",
        "colab": {
          "base_uri": "https://localhost:8080/"
        },
        "outputId": "26a350f4-b6cf-48d0-9fd6-b512f6e0e0c2"
      },
      "outputs": [
        {
          "output_type": "stream",
          "name": "stdout",
          "text": [
            "x is equal to y\n"
          ]
        }
      ],
      "source": [
        "# Olaf\n",
        "if x != y:\n",
        "  print('x is not equal to y')\n",
        "if x == y:\n",
        "  print ('x is equal to y')"
      ]
    },
    {
      "cell_type": "code",
      "source": [
        "# Mohamed\n",
        "if x != y:\n",
        "  print('x is not equal to y')\n",
        "else:\n",
        "  print('x is equal to y')"
      ],
      "metadata": {
        "colab": {
          "base_uri": "https://localhost:8080/"
        },
        "id": "amFSXuSXsN-T",
        "outputId": "d03e0424-34ab-4d68-84ee-d26132af0a03"
      },
      "id": "amFSXuSXsN-T",
      "execution_count": null,
      "outputs": [
        {
          "output_type": "stream",
          "name": "stdout",
          "text": [
            "x is equal to y\n"
          ]
        }
      ]
    },
    {
      "cell_type": "markdown",
      "id": "b13e0da1-3a01-450d-af02-058314b4a5b0",
      "metadata": {
        "jp-MarkdownHeadingCollapsed": true,
        "tags": [],
        "id": "b13e0da1-3a01-450d-af02-058314b4a5b0"
      },
      "source": [
        "##### Hint"
      ]
    },
    {
      "cell_type": "code",
      "execution_count": null,
      "id": "c02b1811-45b2-4cda-a15d-18553cf3f164",
      "metadata": {
        "id": "c02b1811-45b2-4cda-a15d-18553cf3f164"
      },
      "outputs": [],
      "source": [
        "# if(x __ y):\n",
        "#     print(\"x is not equal to y\")\n",
        "# else:\n",
        "#     print(\"x is equal to y\")"
      ]
    },
    {
      "cell_type": "markdown",
      "id": "20c4ce7a-ce86-467f-b008-4f19858467be",
      "metadata": {
        "id": "20c4ce7a-ce86-467f-b008-4f19858467be"
      },
      "source": [
        "### Exercise 3"
      ]
    },
    {
      "cell_type": "markdown",
      "id": "7e44429d-b734-486e-abe7-1e9d96455cbe",
      "metadata": {
        "id": "7e44429d-b734-486e-abe7-1e9d96455cbe"
      },
      "source": [
        "Write an `if` statement that asks for the user's name using the `input()` function.  \n",
        "If the name is \"Bond\", make it print \"Welcome on board 007.\"  \n",
        "Otherwise, make it print \"Good morning NAME\". (Replace NAME with the user's name)."
      ]
    },
    {
      "cell_type": "code",
      "execution_count": null,
      "id": "5cfb5f47-4175-46da-8479-ae8b49a2ea6c",
      "metadata": {
        "id": "5cfb5f47-4175-46da-8479-ae8b49a2ea6c",
        "colab": {
          "base_uri": "https://localhost:8080/"
        },
        "outputId": "b079c875-9cc4-4cca-857b-d9cfcb85b3b0"
      },
      "outputs": [
        {
          "output_type": "stream",
          "name": "stdout",
          "text": [
            "Good Morning. What is your name?\n",
            "Bond\n",
            "Welcome on board, 007\n"
          ]
        }
      ],
      "source": [
        "# Arne\n",
        "print(\"Good Morning. What is your name?\")\n",
        "\n",
        "x = input()\n",
        "\n",
        "if x == \"Bond\":\n",
        "  print(\"Welcome on board, 007\")\n",
        "else:\n",
        "  print(f\"Nice to have you, {x}\")"
      ]
    },
    {
      "cell_type": "code",
      "source": [
        "# Kalpana\n",
        "print(\"Enter your name\")\n",
        "name=input()\n",
        "if(name==\"Bond\"):\n",
        "  print(\"Welcome on board 007.\")\n",
        "else:\n",
        "  print(f\"Good morning {name}.\")"
      ],
      "metadata": {
        "colab": {
          "base_uri": "https://localhost:8080/"
        },
        "id": "R5BPLNmSs1YL",
        "outputId": "c1ed6a7b-d5bb-40cf-9bf5-2d71b977934c"
      },
      "id": "R5BPLNmSs1YL",
      "execution_count": null,
      "outputs": [
        {
          "output_type": "stream",
          "name": "stdout",
          "text": [
            "Enter your name\n",
            "Band\n",
            "Good morning Band.\n"
          ]
        }
      ]
    },
    {
      "cell_type": "markdown",
      "id": "12ea7430-28c4-4cdb-b127-4e2d8651c715",
      "metadata": {
        "jp-MarkdownHeadingCollapsed": true,
        "tags": [],
        "id": "12ea7430-28c4-4cdb-b127-4e2d8651c715"
      },
      "source": [
        "##### Hint"
      ]
    },
    {
      "cell_type": "code",
      "execution_count": null,
      "id": "042579ed-f620-4bec-a16c-d5bd1261db27",
      "metadata": {
        "id": "042579ed-f620-4bec-a16c-d5bd1261db27"
      },
      "outputs": [],
      "source": [
        "# name = _____()\n",
        "# if name _____ \"Bond\":\n",
        "#     \"Welcome on board 007\"\n",
        "# else:\n",
        "#     print(f\"Good morning _____\")"
      ]
    },
    {
      "cell_type": "markdown",
      "id": "d03edba2-c393-4c5e-9280-f51e989d1640",
      "metadata": {
        "id": "d03edba2-c393-4c5e-9280-f51e989d1640"
      },
      "source": [
        "### Exercise 4"
      ]
    },
    {
      "cell_type": "markdown",
      "id": "3917201e-871f-409d-b357-296a467ef4ac",
      "metadata": {
        "id": "3917201e-871f-409d-b357-296a467ef4ac"
      },
      "source": [
        "Print the results of the following:\n",
        " - If x is greater than y, subtract x from y.\n",
        " - If x is smaller than y, add x to y.\n",
        " - If x is equal to y, multiply x by y."
      ]
    },
    {
      "cell_type": "code",
      "execution_count": null,
      "id": "fa5525f1-7b85-43bb-805d-1656ef658a7b",
      "metadata": {
        "id": "fa5525f1-7b85-43bb-805d-1656ef658a7b"
      },
      "outputs": [],
      "source": [
        "x=3\n",
        "y=3"
      ]
    },
    {
      "cell_type": "code",
      "execution_count": null,
      "id": "59399ee1-4508-4cbb-a39c-e9d653f06ca5",
      "metadata": {
        "id": "59399ee1-4508-4cbb-a39c-e9d653f06ca5",
        "colab": {
          "base_uri": "https://localhost:8080/"
        },
        "outputId": "76068179-4bba-40b3-a3f3-2e725dcf1536"
      },
      "outputs": [
        {
          "output_type": "stream",
          "name": "stdout",
          "text": [
            "9\n"
          ]
        }
      ],
      "source": [
        "# Gözde\n",
        "if x > y:\n",
        "  print(x - y)\n",
        "elif x < y:\n",
        "  print(y + x)\n",
        "else:\n",
        "  print(y * x)"
      ]
    },
    {
      "cell_type": "markdown",
      "id": "26550ea5-18f3-4441-b586-0414830fd57a",
      "metadata": {
        "jp-MarkdownHeadingCollapsed": true,
        "tags": [],
        "id": "26550ea5-18f3-4441-b586-0414830fd57a"
      },
      "source": [
        "##### Hint"
      ]
    },
    {
      "cell_type": "code",
      "execution_count": null,
      "id": "873fc5cf-be42-4162-a544-095d02834a3d",
      "metadata": {
        "id": "873fc5cf-be42-4162-a544-095d02834a3d"
      },
      "outputs": [],
      "source": [
        "# _____ x > y:\n",
        "#     print(x - y)\n",
        "# elif x _____ y:\n",
        "#     print(y + x)\n",
        "# _____\n",
        "#     print(y * x)"
      ]
    },
    {
      "cell_type": "markdown",
      "id": "645eb8c6-e805-434b-9303-8b0b073a2a17",
      "metadata": {
        "id": "645eb8c6-e805-434b-9303-8b0b073a2a17"
      },
      "source": [
        "### Exercise 5"
      ]
    },
    {
      "cell_type": "markdown",
      "id": "3446c23f-adb0-4338-8a1d-b13561fe3585",
      "metadata": {
        "id": "3446c23f-adb0-4338-8a1d-b13561fe3585"
      },
      "source": [
        "Use if statements to find which value is the biggest one and print \"The biggest value is VALUE.\".\n",
        "BONUS: Check out the solution with nested statements."
      ]
    },
    {
      "cell_type": "code",
      "execution_count": null,
      "id": "8d580db2-8e08-4196-806b-d971ad90d253",
      "metadata": {
        "id": "8d580db2-8e08-4196-806b-d971ad90d253"
      },
      "outputs": [],
      "source": [
        "x=43\n",
        "y=45\n",
        "z=34"
      ]
    },
    {
      "cell_type": "code",
      "execution_count": null,
      "id": "1aadfc9f-2589-4af9-a3cd-e584e5b876ec",
      "metadata": {
        "id": "1aadfc9f-2589-4af9-a3cd-e584e5b876ec",
        "colab": {
          "base_uri": "https://localhost:8080/"
        },
        "outputId": "be15c363-9fba-4108-9342-8bd92d74bc2b"
      },
      "outputs": [
        {
          "output_type": "stream",
          "name": "stdout",
          "text": [
            "The biggest value is 45\n"
          ]
        }
      ],
      "source": [
        "# Zishan & Maath\n",
        "if x>=y and x>=z:\n",
        "    print(f\"The biggest value is {x}\")\n",
        "elif y>=x and y>=z:\n",
        "    print(f\"The biggest value is {y}\")\n",
        "else:\n",
        "    print(f\"The biggest value is {z}\")"
      ]
    },
    {
      "cell_type": "code",
      "source": [
        "if x>y:\n",
        "  if x>z:\n",
        "    print(f\"The biggest value is {x}\")\n",
        "  else:\n",
        "    print(f\"The biggest value is {z}\")\n",
        "else:\n",
        "  if y>z:\n",
        "    print(f\"The biggest value is {y}\")\n",
        "  else:\n",
        "    print(f\"The biggest value is {z}\")"
      ],
      "metadata": {
        "colab": {
          "base_uri": "https://localhost:8080/"
        },
        "id": "7gadaIN3uF4b",
        "outputId": "fad0b1b5-521f-427f-880c-53ee0ec40289"
      },
      "id": "7gadaIN3uF4b",
      "execution_count": null,
      "outputs": [
        {
          "output_type": "stream",
          "name": "stdout",
          "text": [
            "The biggest value is 45\n"
          ]
        }
      ]
    },
    {
      "cell_type": "code",
      "source": [
        "# Kalpana\n",
        "if(x>y and x>z):\n",
        "  value=x\n",
        "  print(f\"The biggest value is {value}.\")\n",
        "elif(y>z):\n",
        "  value=y\n",
        "  print(f\"The biggest value is {value}.\")\n",
        "else:\n",
        "  value=z\n",
        "  print(f\"The biggest value is {value}.\")"
      ],
      "metadata": {
        "colab": {
          "base_uri": "https://localhost:8080/"
        },
        "id": "QxcgNKMDu3sT",
        "outputId": "1731dc7d-3fdb-425e-f959-396113214443"
      },
      "id": "QxcgNKMDu3sT",
      "execution_count": null,
      "outputs": [
        {
          "output_type": "stream",
          "name": "stdout",
          "text": [
            "The biggest value is 45.\n"
          ]
        }
      ]
    },
    {
      "cell_type": "markdown",
      "id": "39e5bf8f-d4a2-4714-9e45-fb34df2090a4",
      "metadata": {
        "jp-MarkdownHeadingCollapsed": true,
        "tags": [],
        "id": "39e5bf8f-d4a2-4714-9e45-fb34df2090a4"
      },
      "source": [
        "##### Hint"
      ]
    },
    {
      "cell_type": "code",
      "execution_count": null,
      "id": "f1b832af-2b2b-4b69-b0bf-a792e19602a4",
      "metadata": {
        "id": "f1b832af-2b2b-4b69-b0bf-a792e19602a4"
      },
      "outputs": [],
      "source": [
        "# if _____ >= y _____ x >= z:\n",
        "#     print(f\"The biggest value is {x}\")\n",
        "# _____ y >= x and _____ >= z:\n",
        "#     print(f\"The biggest value is {_____}\")\n",
        "# else:\n",
        "#     print(f\"The biggest value is {z}\")"
      ]
    },
    {
      "cell_type": "code",
      "source": [
        "# This looks like it could/should work, but it will not\n",
        "# We want x to be compared to both y and z\n",
        "# Running the code will evaluate the terms inside the bracket (e.g. \"y and z\")\n",
        "# Depending on the truth value of these objects, \"y and z\" will return either y or z,\n",
        "# which in turn will be compared to x\n",
        "# For more information, look here: https://realpython.com/python-and-operator/\n",
        "if x >= (y and z):\n",
        "  print(f\"The biggest value is {x}.\")\n",
        "elif y >= (x and z):\n",
        "  print(f\"The biggest value is {y}.\")\n",
        "else:\n",
        "  print(f\"The biggest value is {z}.\")"
      ],
      "metadata": {
        "colab": {
          "base_uri": "https://localhost:8080/"
        },
        "id": "pv7tMq1nwtBO",
        "outputId": "adc2f6be-8699-4eff-daac-00b6939c8eae"
      },
      "id": "pv7tMq1nwtBO",
      "execution_count": null,
      "outputs": [
        {
          "output_type": "stream",
          "name": "stdout",
          "text": [
            "The biggest value is 43.\n"
          ]
        }
      ]
    }
  ],
  "metadata": {
    "kernelspec": {
      "display_name": "Python 3 (ipykernel)",
      "language": "python",
      "name": "python3"
    },
    "language_info": {
      "codemirror_mode": {
        "name": "ipython",
        "version": 3
      },
      "file_extension": ".py",
      "mimetype": "text/x-python",
      "name": "python",
      "nbconvert_exporter": "python",
      "pygments_lexer": "ipython3",
      "version": "3.9.12"
    },
    "colab": {
      "provenance": [],
      "collapsed_sections": [
        "b13e0da1-3a01-450d-af02-058314b4a5b0",
        "12ea7430-28c4-4cdb-b127-4e2d8651c715",
        "26550ea5-18f3-4441-b586-0414830fd57a",
        "39e5bf8f-d4a2-4714-9e45-fb34df2090a4"
      ],
      "toc_visible": true
    }
  },
  "nbformat": 4,
  "nbformat_minor": 5
}